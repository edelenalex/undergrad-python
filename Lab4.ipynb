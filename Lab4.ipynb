{
 "cells": [
  {
   "cell_type": "markdown",
   "metadata": {},
   "source": [
    "# CIS 443-01 - Analytics Programming\n",
    "## Lab 4\n",
    "__Grading ID__:  D9744<br>\n",
    "__Due__: Monday, October 19 (by 11:59 PM)<br />\n",
    "__Worth__: 25 pts."
   ]
  },
  {
   "cell_type": "markdown",
   "metadata": {},
   "source": [
    "### Directions\n",
    "In the code cell below, write Python code to complete __Exercise 6.7__, p. 235 (Character Counts) Recall that strings are sequences of characters. Use techniques similar to Fig. 6.2 to write a script that inputs a sentence from the user, then uses a dictionary to summarize the number of occurrences of each letter. Ignore case, ignore blanks and assume the user does not enter any punctuation. Display a two-column table of the letters and their counts with the letters in sorted order. Finally, use a set operation to determine which letters of the alphabet were not in the original string and print this result, as well. Test your source code and save your work before submission. (25 pts.)"
   ]
  },
  {
   "cell_type": "code",
   "execution_count": 11,
   "metadata": {},
   "outputs": [
    {
     "name": "stdin",
     "output_type": "stream",
     "text": [
      "Write a sentence or phrase please:  abcdefghijklmonopqrstuvwxyznowiknowmyabcsnextimewontyousingwithme\n"
     ]
    },
    {
     "name": "stdout",
     "output_type": "stream",
     "text": [
      "Letter      Count\n",
      "a           2\n",
      "b           2\n",
      "c           2\n",
      "d           1\n",
      "e           4\n",
      "f           1\n",
      "g           2\n",
      "h           2\n",
      "i           5\n",
      "j           1\n",
      "k           2\n",
      "l           1\n",
      "m           4\n",
      "n           6\n",
      "o           6\n",
      "p           1\n",
      "q           1\n",
      "r           1\n",
      "s           3\n",
      "t           4\n",
      "u           2\n",
      "v           1\n",
      "w           5\n",
      "x           2\n",
      "y           3\n",
      "z           1\n"
     ]
    }
   ],
   "source": [
    "user_string = input('Write a sentence or phrase please: ')\n",
    "\n",
    "letter_count = {}\n",
    "\n",
    "for letter in user_string:\n",
    "    if letter in letter_count:\n",
    "        letter_count[letter] += 1\n",
    "    else:\n",
    "        letter_count[letter] = 1\n",
    "        \n",
    "print(f'{\"Letter\":<12}Count')\n",
    "\n",
    "for letter, count in sorted(letter_count.items()):\n",
    "    print(f'{letter:<12}{count}')\n",
    "    "
   ]
  },
  {
   "cell_type": "markdown",
   "metadata": {},
   "source": [
    "Be sure to save and exit your Jupyter Notebook and Shutdown Jupyter Lab (from the __File__ menu) before you submit your notebook on Blackboard for grading."
   ]
  }
 ],
 "metadata": {
  "kernelspec": {
   "display_name": "Python 3",
   "language": "python",
   "name": "python3"
  },
  "language_info": {
   "codemirror_mode": {
    "name": "ipython",
    "version": 3
   },
   "file_extension": ".py",
   "mimetype": "text/x-python",
   "name": "python",
   "nbconvert_exporter": "python",
   "pygments_lexer": "ipython3",
   "version": "3.7.6"
  }
 },
 "nbformat": 4,
 "nbformat_minor": 4
}
