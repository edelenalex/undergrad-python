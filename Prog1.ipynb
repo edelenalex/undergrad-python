{
 "cells": [
  {
   "cell_type": "markdown",
   "metadata": {},
   "source": [
    "# CIS 443-01 - Analytics Programming\n",
    "## Program 1\n",
    "__Grading ID__: D9744(double click the cell in Jupyter to edit)<br>\n",
    "__Due__: Wednesday, September 9 (by 11:59 PM)<br />\n",
    "__Worth__: 50 pts.<br />\n",
    "__Purpose__: Use repetition control structure and accumulator pattern to estimate value of π."
   ]
  },
  {
   "cell_type": "markdown",
   "metadata": {},
   "source": [
    "### Directions\n",
    "In the code cell below, write Python code to accomplish the following using what you've learned through Chapter 3. Complete Exercise 3.14 from p. 114.\n",
    "\n",
    "Write your solution to allow the user to enter a value for the number of terms that they want the code to run for in the approximation calculation. Output the estimate after each term is added in a tabular format, using f-strings, field width, and right-alignment. Print the term number in a field with width of 8 and the estimate of π in a field with width of 10 and 6 digits after the decimal. (45 pts.)\n",
    "\n",
    "Use your code to answer the questions cells below. (5 pts.)\n",
    "\n",
    "I suggest that you develop your solution in steps. You must alternate between subtraction and addition on each term (or, use addition with a coefficient that alternates from -1 to +1 on each term), so you might start with that. The denominator is going up by 2s each term, so 3, 5, 7, etc., so maybe get that working next. Once you have all the pieces working, then you put it together in a summation (that starts from 4 instead of 0 for this series).\n",
    "\n",
    "If you prefer, you may submit a Python script instead (_Prog1.py_) of a notebook but remember to answer the questions below by including them in comments at end of script if you choose this route.\n",
    "\n",
    "If you wish to incorporate a little of Chapter 4, put the code for the estimation in a method named _pi_estimator_ that accepts number of terms as a parameter."
   ]
  },
  {
   "cell_type": "code",
   "execution_count": 29,
   "metadata": {},
   "outputs": [
    {
     "name": "stdin",
     "output_type": "stream",
     "text": [
      "Enter number of terms:  10\n"
     ]
    },
    {
     "name": "stdout",
     "output_type": "stream",
     "text": [
      "Term:        0    Pi:   2.666667\n",
      "Term:        1    Pi:   3.466667\n",
      "Term:        2    Pi:   2.895238\n",
      "Term:        3    Pi:   3.339683\n",
      "Term:        4    Pi:   2.976046\n",
      "Term:        5    Pi:   3.283738\n",
      "Term:        6    Pi:   3.017072\n",
      "Term:        7    Pi:   3.252366\n",
      "Term:        8    Pi:   3.041840\n",
      "Term:        9    Pi:   3.232316\n"
     ]
    }
   ],
   "source": [
    "piApprox = 4\n",
    "numerator = 4\n",
    "denominator = 3\n",
    "term = int(input('Enter number of terms: '))\n",
    "\n",
    "for number in range(term):\n",
    "    fraction = numerator/denominator\n",
    "    if number % 2 == 0:\n",
    "        piApprox -= fraction\n",
    "    else:\n",
    "        piApprox += fraction\n",
    "    denominator +=2\n",
    "    print(f'Term: {number:>8}    Pi: {piApprox:>10.6f}')\n"
   ]
  },
  {
   "cell_type": "markdown",
   "metadata": {},
   "source": [
    "How many terms of this series do you have to use before you first get 3.14?<br />\n",
    "Term - 117<br />\n",
    "3.141?<br />\n",
    "Term - 1,686<br />\n",
    "3.1415?<br />\n",
    "Term - 10,734<br />\n",
    "3.14159?<br />\n",
    "Term - 146,061<br />\n",
    "Double click the cell in Jupyter to edit (5 pts.)"
   ]
  },
  {
   "cell_type": "markdown",
   "metadata": {},
   "source": [
    "Be sure to save and exit your Jupyter Notebook and Shutdown Jupyter Lab (from the __File__ menu) before you submit your notebook on Blackboard for grading."
   ]
  }
 ],
 "metadata": {
  "kernelspec": {
   "display_name": "Python 3",
   "language": "python",
   "name": "python3"
  },
  "language_info": {
   "codemirror_mode": {
    "name": "ipython",
    "version": 3
   },
   "file_extension": ".py",
   "mimetype": "text/x-python",
   "name": "python",
   "nbconvert_exporter": "python",
   "pygments_lexer": "ipython3",
   "version": "3.7.6"
  }
 },
 "nbformat": 4,
 "nbformat_minor": 4
}
